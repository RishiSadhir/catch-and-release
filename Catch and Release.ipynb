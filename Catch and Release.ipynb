{
 "cells": [
  {
   "cell_type": "markdown",
   "metadata": {},
   "source": [
    "Today we're going to think through how to estimate the number of fish in a lake. This kind of problem is faced regularly to [ecologists](https://en.wikipedia.org/wiki/Mark_and_recapture) trying to estimate population sizes. It will give us a great tour of the fundamentals. Lets get started."
   ]
  },
  {
   "cell_type": "code",
   "execution_count": 8,
   "metadata": {},
   "outputs": [],
   "source": [
    "import numpy as np\n",
    "import matplotlib.pyplot as plt\n",
    "import scipy.stats as stats"
   ]
  },
  {
   "cell_type": "code",
   "execution_count": 4,
   "metadata": {},
   "outputs": [],
   "source": [
    "# Data collection\n",
    "total_tagged = 68\n",
    "caught = 219\n",
    "tagged = 16"
   ]
  },
  {
   "cell_type": "markdown",
   "metadata": {},
   "source": [
    "### What proportion of fish are tagged?\n",
    "\n",
    "At first this question sounds easy, its just $\\frac{16}{219} = 0.073$ right? The question becomes more interesting when you consider the amount of undertainty around that estimate. We care about the amount of uncertainty because it may influence us to gather more data by going out and tagging catching, and releasing again.\n",
    "\n",
    "To get a more holistic answer to this question, lets start model building. We'll consider each caught fish as a bernoulli trial where a success is whether or not it was tagged. We'll use flat prior for the proportion of tagged fish, $p$.\n",
    "\n",
    "$$\n",
    "\\begin{align}\n",
    "is\\_tagged_i &\\sim Bernoulli(p_i) \\\\\n",
    "p_i &\\sim Beta(1, 1)\n",
    "\\end{align}\n",
    "$$\n",
    "\n",
    "We can aggregate up bernoulli trials into a binomial to take advantage of beta-binomial conjugacy. \n",
    "\n",
    "$$\n",
    "\\begin{align}\n",
    "tagged &\\sim Binomial(caught, p) \\\\\n",
    "p &\\sim Beta(1, 1)\n",
    "\\end{align}\n",
    "$$\n",
    "\n",
    "Conjugacy happens when the posterior distribution can be solved for by hand without having to rely on fancy sampling a la Stan or PyMC3.\n",
    "\n",
    "$$\n",
    "\\begin{align}\n",
    "Posterior &= Prior * Likelihood \\\\\n",
    "Pr(p | d) &= Pr(p) * Pr(d | p) \\\\\n",
    "Pr(p | d) &= Beta(\\alpha, \\beta) * Binomial(n, k) \\\\\n",
    "Pr(p | d) &= Beta(\\alpha + k, n - k + \\beta)\n",
    "\\end{align}\n",
    "$$\n",
    "\n",
    "Armed with this knowledge, we draw 1000 posterior samples in the code below. Then we take our posterior and calculate the mean and 95% credible interval about it.\n"
   ]
  },
  {
   "cell_type": "code",
   "execution_count": 66,
   "metadata": {},
   "outputs": [],
   "source": [
    "\"\"\"\n",
    "This code was taken form the PyMC library https://github.com/pymc-devs/pymc\n",
    "\"\"\"\n",
    "\n",
    "def calc_min_interval(x, alpha):\n",
    "    \"\"\"Internal method to determine the minimum interval of a given width\n",
    "    Assumes that x is sorted numpy array.\n",
    "    \"\"\"\n",
    "    n = len(x)\n",
    "    cred_mass = 1.0-alpha\n",
    "\n",
    "    interval_idx_inc = int(np.floor(cred_mass*n))\n",
    "    n_intervals = n - interval_idx_inc\n",
    "    interval_width = x[interval_idx_inc:] - x[:n_intervals]\n",
    "\n",
    "    if len(interval_width) == 0:\n",
    "        raise ValueError('Too few elements for interval calculation')\n",
    "\n",
    "    min_idx = np.argmin(interval_width)\n",
    "    hdi_min = x[min_idx]\n",
    "    hdi_max = x[min_idx+interval_idx_inc]\n",
    "    return hdi_min, hdi_max\n",
    "\n",
    "\n",
    "def hpd(x, alpha=0.05):\n",
    "    \"\"\"Calculate highest posterior density (HPD) of array for given alpha. \n",
    "    The HPD is the minimum width Bayesian credible interval (BCI).\n",
    "    :Arguments:\n",
    "        x : Numpy array\n",
    "        An array containing MCMC samples\n",
    "        alpha : float\n",
    "        Desired probability of type I error (defaults to 0.05)\n",
    "    \"\"\"\n",
    "    # Make a copy of trace\n",
    "    x = x.copy()\n",
    "    # For multivariate node\n",
    "    if x.ndim > 1:\n",
    "        # Transpose first, then sort\n",
    "        tx = np.transpose(x, list(range(x.ndim))[1:]+[0])\n",
    "        dims = np.shape(tx)\n",
    "        # Container list for intervals\n",
    "        intervals = np.resize(0.0, dims[:-1]+(2,))\n",
    "\n",
    "        for index in make_indices(dims[:-1]):\n",
    "            try:\n",
    "                index = tuple(index)\n",
    "            except TypeError:\n",
    "                pass\n",
    "\n",
    "            # Sort trace\n",
    "            sx = np.sort(tx[index])\n",
    "            # Append to list\n",
    "            intervals[index] = calc_min_interval(sx, alpha)\n",
    "        # Transpose back before returning\n",
    "        return np.array(intervals)\n",
    "    else:\n",
    "        # Sort univariate node\n",
    "        sx = np.sort(x)\n",
    "        return np.array(calc_min_interval(sx, alpha))"
   ]
  },
  {
   "cell_type": "code",
   "execution_count": 103,
   "metadata": {},
   "outputs": [
    {
     "name": "stdout",
     "output_type": "stream",
     "text": [
      "The proportion of tagged fish is approximately 0.076 with 95% credibile mass within 0.042 and 0.112.\n"
     ]
    }
   ],
   "source": [
    "N = 1000\n",
    "posterior = stats.beta.rvs(a=1+tagged, b=1+(caught-tagged), size=N)\n",
    "m = round(np.mean(posterior), 3)\n",
    "ci = hpd(posterior).round(3)\n",
    "\n",
    "s = f\"The proportion of tagged fish is approximately {m} with 95% credibile mass within {ci[0]} and {ci[1]}.\"\n",
    "print(s)"
   ]
  },
  {
   "cell_type": "code",
   "execution_count": 118,
   "metadata": {},
   "outputs": [
    {
     "data": {
      "image/png": "[encoded data removed]",
      "text/plain": [
       "<Figure size 864x216 with 1 Axes>"
      ]
     },
     "metadata": {
      "needs_background": "light"
     },
     "output_type": "display_data"
    }
   ],
   "source": [
    "fig, ax = plt.subplots(figsize = (12, 3))\n",
    "ax.hist(posterior, bins = 30, color = \"black\")\n",
    "ax.axvline(ci[0])\n",
    "ax.axvline(ci[1])\n",
    "ax.axvline(m)\n",
    "ax.set_xlim([0, .2])\n",
    "ax.set_xlabel(\"Posterior Proportion\")\n",
    "ax.set_yticks([])\n",
    "ax.set_ylabel(\"Density\")\n",
    "plt.suptitle(f\"Proportion of tagged fish in the lake. Mean of {m} with 95% credibility in [{ci[0]}, {ci[1]}]\")\n",
    "plt.show()"
   ]
  },
  {
   "cell_type": "markdown",
   "metadata": {},
   "source": [
    "### How many fish are in the lake\n",
    "\n",
    "Now that we know the proportion of tagged fish it should be easy to calculate the total number of fish. This is because:\n",
    "\n",
    "$$\n",
    "\\begin{align}\n",
    "\\frac{tagged}{caught} &= \\frac{total\\_marked}{total\\_fish} \\\\\n",
    "total\\_fish &= \\frac{total\\_marked}{\\frac{tagged}{caught}}\n",
    "\\end{align}\n",
    "$$\n",
    "\n",
    "That term in the bottom right is the proportion we calculated earlier. Because we have the full posterior for that term we can just push it on through the calculation to propagate our uncertainty forward.\n"
   ]
  },
  {
   "cell_type": "code",
   "execution_count": 124,
   "metadata": {},
   "outputs": [
    {
     "name": "stdout",
     "output_type": "stream",
     "text": [
      "The number of fish the lake is 943.9 with 95% credibile mass within 552.6 and 1455.7.\n"
     ]
    }
   ],
   "source": [
    "post_total = total_tagged/posterior\n",
    "\n",
    "m = round(np.mean(post_total), 1)\n",
    "ci = hpd(post_total).round(1)\n",
    "\n",
    "s = f\"The number of fish the lake is {m} with 95% credibile mass within {ci[0]} and {ci[1]}.\"\n",
    "print(s)\n"
   ]
  },
  {
   "cell_type": "markdown",
   "metadata": {},
   "source": [
    "Lets graph our uncertainty just like before."
   ]
  },
  {
   "cell_type": "code",
   "execution_count": 127,
   "metadata": {},
   "outputs": [
    {
     "data": {
      "image/png": "[encoded data removed]",
      "text/plain": [
       "<Figure size 864x216 with 1 Axes>"
      ]
     },
     "metadata": {
      "needs_background": "light"
     },
     "output_type": "display_data"
    }
   ],
   "source": [
    "fig, ax = plt.subplots(figsize = (12, 3))\n",
    "ax.hist(post_total, bins = 30, color = \"black\")\n",
    "ax.axvline(ci[0])\n",
    "ax.axvline(ci[1])\n",
    "ax.axvline(m)\n",
    "ax.set_xlabel(\"Posterior Proportion\")\n",
    "ax.set_yticks([])\n",
    "ax.set_ylabel(\"Density\")\n",
    "plt.suptitle(f\"Proportion of tagged fish in the lake. Mean of {m} with 95% credibility in [{ci[0]}, {ci[1]}]\")\n",
    "plt.show()"
   ]
  },
  {
   "cell_type": "markdown",
   "metadata": {},
   "source": [
    "And there we have it. With this distribution we can make future informed decisions based on the health of the lake. We can also gather more data to get more certainty about our measurment.\n"
   ]
  }
 ],
 "metadata": {
  "kernelspec": {
   "display_name": "Python 3",
   "language": "python",
   "name": "python3"
  },
  "language_info": {
   "codemirror_mode": {
    "name": "ipython",
    "version": 3
   },
   "file_extension": ".py",
   "mimetype": "text/x-python",
   "name": "python",
   "nbconvert_exporter": "python",
   "pygments_lexer": "ipython3",
   "version": "3.7.6"
  }
 },
 "nbformat": 4,
 "nbformat_minor": 4
}
